{
 "cells": [
  {
   "cell_type": "code",
   "execution_count": 13,
   "metadata": {},
   "outputs": [],
   "source": [
    "import pandas as pd\n",
    "import sqlalchemy\n",
    "from sqlalchemy import create_engine\n",
    "import sqlite3 as db"
   ]
  },
  {
   "cell_type": "code",
   "execution_count": 14,
   "metadata": {},
   "outputs": [],
   "source": [
    "# Load data\n",
    "df = pd.read_csv(\"https://archive.ics.uci.edu/ml/machine-learning-databases/adult/adult.data\")\n",
    "\n",
    "# Add column headers\n",
    "df.columns = ['age', 'workclass', 'fnlwgt', 'education', 'education_num', 'marital_status', 'occupation', 'relationship', 'race', 'sex', 'capital_gain', 'capital_loss', 'hours_per_week', 'native_country', 'income']\n",
    "\n",
    "# Create sqladb\n",
    "sqladb = db.connect('/Users/suruchi/Desktop/Personal/Aditya/Personal/Data Science/Acadgild/Assignment/12/sqladb')\n",
    "\n",
    "#Creating database cursor for further querying the data\n",
    "cursor = sqladb.cursor()\n",
    "\n",
    "# Create table and load data\n",
    "df.to_sql('Adult', sqladb, if_exists='replace', index=False)"
   ]
  },
  {
   "cell_type": "code",
   "execution_count": 15,
   "metadata": {},
   "outputs": [
    {
     "name": "stdout",
     "output_type": "stream",
     "text": [
      "1. Select 10 records from the adult sqladb\n",
      "   age          workclass  fnlwgt      education  education_num  \\\n",
      "0   50   Self-emp-not-inc   83311      Bachelors             13   \n",
      "1   38            Private  215646        HS-grad              9   \n",
      "2   53            Private  234721           11th              7   \n",
      "3   28            Private  338409      Bachelors             13   \n",
      "4   37            Private  284582        Masters             14   \n",
      "5   49            Private  160187            9th              5   \n",
      "6   52   Self-emp-not-inc  209642        HS-grad              9   \n",
      "7   31            Private   45781        Masters             14   \n",
      "8   42            Private  159449      Bachelors             13   \n",
      "9   37            Private  280464   Some-college             10   \n",
      "\n",
      "           marital_status          occupation    relationship    race  \\\n",
      "0      Married-civ-spouse     Exec-managerial         Husband   White   \n",
      "1                Divorced   Handlers-cleaners   Not-in-family   White   \n",
      "2      Married-civ-spouse   Handlers-cleaners         Husband   Black   \n",
      "3      Married-civ-spouse      Prof-specialty            Wife   Black   \n",
      "4      Married-civ-spouse     Exec-managerial            Wife   White   \n",
      "5   Married-spouse-absent       Other-service   Not-in-family   Black   \n",
      "6      Married-civ-spouse     Exec-managerial         Husband   White   \n",
      "7           Never-married      Prof-specialty   Not-in-family   White   \n",
      "8      Married-civ-spouse     Exec-managerial         Husband   White   \n",
      "9      Married-civ-spouse     Exec-managerial         Husband   Black   \n",
      "\n",
      "       sex  capital_gain  capital_loss  hours_per_week  native_country  income  \n",
      "0     Male             0             0              13   United-States   <=50K  \n",
      "1     Male             0             0              40   United-States   <=50K  \n",
      "2     Male             0             0              40   United-States   <=50K  \n",
      "3   Female             0             0              40            Cuba   <=50K  \n",
      "4   Female             0             0              40   United-States   <=50K  \n",
      "5   Female             0             0              16         Jamaica   <=50K  \n",
      "6     Male             0             0              45   United-States    >50K  \n",
      "7   Female         14084             0              50   United-States    >50K  \n",
      "8     Male          5178             0              40   United-States    >50K  \n",
      "9     Male             0             0              80   United-States    >50K  \n"
     ]
    }
   ],
   "source": [
    "# 1. Select 10 records from the adult sqladb\n",
    "print(\"1. Select 10 records from the adult sqladb\")\n",
    "query = \"SELECT * FROM Adult limit 10\"\n",
    "print(pd.read_sql_query(query,sqladb))"
   ]
  },
  {
   "cell_type": "code",
   "execution_count": 16,
   "metadata": {},
   "outputs": [
    {
     "name": "stdout",
     "output_type": "stream",
     "text": [
      "\n",
      "2. Show me the average hours per week of all men who are working in private sector\n",
      "Empty DataFrame\n",
      "Columns: [sex, workclass, AverageHoursPerWeek]\n",
      "Index: []\n"
     ]
    }
   ],
   "source": [
    "# 2. Show me the average hours per week of all men who are working in private sector\n",
    "print(\"\\n2. Show me the average hours per week of all men who are working in private sector\")\n",
    "query = \"SELECT sex,workclass, avg(hours_per_week) AverageHoursPerWeek FROM Adult where sex = 'Male' and workclass = 'Private'  group by sex,workclass\"\n",
    "print(pd.read_sql_query(query, sqladb))"
   ]
  },
  {
   "cell_type": "code",
   "execution_count": 17,
   "metadata": {},
   "outputs": [
    {
     "name": "stdout",
     "output_type": "stream",
     "text": [
      "\n",
      "3. Show me the frequency table for education, occupation and relationship, separately\n",
      "\n",
      "Frequency table for education\n",
      "        education  frequency\n",
      "0         HS-grad      10501\n",
      "1    Some-college       7291\n",
      "2       Bachelors       5354\n",
      "3         Masters       1723\n",
      "4       Assoc-voc       1382\n",
      "5            11th       1175\n",
      "6      Assoc-acdm       1067\n",
      "7            10th        933\n",
      "8         7th-8th        646\n",
      "9     Prof-school        576\n",
      "10            9th        514\n",
      "11           12th        433\n",
      "12      Doctorate        413\n",
      "13        5th-6th        333\n",
      "14        1st-4th        168\n",
      "15      Preschool         51\n"
     ]
    }
   ],
   "source": [
    "# 3. Show me the frequency table for education, occupation and relationship, separately\n",
    "print(\"\\n3. Show me the frequency table for education, occupation and relationship, separately\")\n",
    "print(\"\\nFrequency table for education\")\n",
    "query = \"SELECT  education, count(education) frequency from Adult group by education order by frequency desc \"\n",
    "print(pd.read_sql_query(query,sqladb))"
   ]
  },
  {
   "cell_type": "code",
   "execution_count": 18,
   "metadata": {},
   "outputs": [
    {
     "name": "stdout",
     "output_type": "stream",
     "text": [
      "\n",
      "Frequency table for occupation\n",
      "            occupation  frequency\n",
      "0       Prof-specialty       4140\n",
      "1         Craft-repair       4099\n",
      "2      Exec-managerial       4066\n",
      "3         Adm-clerical       3769\n",
      "4                Sales       3650\n",
      "5        Other-service       3295\n",
      "6    Machine-op-inspct       2002\n",
      "7                    ?       1843\n",
      "8     Transport-moving       1597\n",
      "9    Handlers-cleaners       1370\n",
      "10     Farming-fishing        994\n",
      "11        Tech-support        928\n",
      "12     Protective-serv        649\n",
      "13     Priv-house-serv        149\n",
      "14        Armed-Forces          9\n",
      "\n",
      "Frequency table for relationship\n",
      "      relationship  frequency\n",
      "0          Husband      13193\n",
      "1    Not-in-family       8304\n",
      "2        Own-child       5068\n",
      "3        Unmarried       3446\n",
      "4             Wife       1568\n",
      "5   Other-relative        981\n"
     ]
    }
   ],
   "source": [
    "print(\"\\nFrequency table for occupation\")\n",
    "query = \"SELECT  occupation, count(occupation) frequency from Adult group by occupation order by frequency desc \"\n",
    "print(pd.read_sql_query(query,sqladb))\n",
    "\n",
    "print(\"\\nFrequency table for relationship\")\n",
    "query = \"SELECT  relationship, count(relationship) frequency from Adult group by relationship order by frequency desc \"\n",
    "print(pd.read_sql_query(query,sqladb))"
   ]
  },
  {
   "cell_type": "code",
   "execution_count": 19,
   "metadata": {},
   "outputs": [
    {
     "name": "stdout",
     "output_type": "stream",
     "text": [
      "\n",
      "4. Are there any people who are married, working in private sector and having a masters degree\n",
      "   People\n",
      "0       0\n"
     ]
    }
   ],
   "source": [
    "# 4. Are there any people who are married, working in private sector and having a masters degree\n",
    "print(\"\\n4. Are there any people who are married, working in private sector and having a masters degree\")\n",
    "query = \"\"\"SELECT count(*) as People FROM Adult WHERE \"marital_status\" like \"Married-%\" AND workclass=\"Private\" AND education=\"Masters\" \"\"\"\n",
    "print(pd.read_sql_query(query,sqladb))"
   ]
  },
  {
   "cell_type": "code",
   "execution_count": 20,
   "metadata": {},
   "outputs": [
    {
     "name": "stdout",
     "output_type": "stream",
     "text": [
      "\n",
      "5. What is the average, minimum and maximum age group for people working in different sectors\n",
      "           workclass    average  minimum  maximum\n",
      "0                  ?  40.960240       17       90\n",
      "1        Federal-gov  42.590625       17       90\n",
      "2          Local-gov  41.751075       17       90\n",
      "3       Never-worked  20.571429       17       30\n",
      "4            Private  36.797585       17       90\n",
      "5       Self-emp-inc  46.017025       17       84\n",
      "6   Self-emp-not-inc  44.969697       17       90\n",
      "7          State-gov  39.436392       17       81\n",
      "8        Without-pay  47.785714       19       72\n"
     ]
    }
   ],
   "source": [
    "# 5. What is the average, minimum and maximum age group for people working in different sectors\n",
    "print(\"\\n5. What is the average, minimum and maximum age group for people working in different sectors\")\n",
    "query = \"\"\"SELECT workclass, avg(age) average, min(age) minimum, max(age) maximum FROM Adult GROUP BY workclass\"\"\"\n",
    "print(pd.read_sql_query(query,sqladb))"
   ]
  },
  {
   "cell_type": "code",
   "execution_count": 21,
   "metadata": {},
   "outputs": [
    {
     "name": "stdout",
     "output_type": "stream",
     "text": [
      "\n",
      "6. Calculate age distribution by country\n",
      "                 native_country  Age Distribution\n",
      "0                 United-States          89.58538\n",
      "1                        Mexico           1.97482\n",
      "2                             ?           1.79054\n",
      "3                   Philippines           0.60811\n",
      "4                       Germany           0.42076\n",
      "5                        Canada           0.37162\n",
      "6                   Puerto-Rico           0.35012\n",
      "7                   El-Salvador           0.32555\n",
      "8                         India           0.30713\n",
      "9                          Cuba           0.29177\n",
      "10                      England           0.27641\n",
      "11                      Jamaica           0.24877\n",
      "12                        South           0.24570\n",
      "13                        China           0.23034\n",
      "14                        Italy           0.22420\n",
      "15           Dominican-Republic           0.21499\n",
      "16                      Vietnam           0.20577\n",
      "17                    Guatemala           0.19656\n",
      "18                        Japan           0.19042\n",
      "19                       Poland           0.18428\n",
      "20                     Columbia           0.18120\n",
      "21                       Taiwan           0.15663\n",
      "22                        Haiti           0.13514\n",
      "23                         Iran           0.13206\n",
      "24                     Portugal           0.11364\n",
      "25                    Nicaragua           0.10442\n",
      "26                         Peru           0.09521\n",
      "27                       France           0.08907\n",
      "28                       Greece           0.08907\n",
      "29                      Ecuador           0.08600\n",
      "30                      Ireland           0.07371\n",
      "31                         Hong           0.06143\n",
      "32                     Cambodia           0.05835\n",
      "33              Trinadad&Tobago           0.05835\n",
      "34                         Laos           0.05528\n",
      "35                     Thailand           0.05528\n",
      "36                   Yugoslavia           0.04914\n",
      "37   Outlying-US(Guam-USVI-etc)           0.04300\n",
      "38                     Honduras           0.03993\n",
      "39                      Hungary           0.03993\n",
      "40                     Scotland           0.03686\n",
      "41           Holand-Netherlands           0.00307\n"
     ]
    }
   ],
   "source": [
    "# 6. Calculate age distribution by country\n",
    "print(\"\\n6. Calculate age distribution by country\")\n",
    "query = \"\"\"SELECT native_country, Round(Round((count(age)*100),5)/Round((select COUNT(age) from Adult),5),5) as \"Age Distribution\"  FROM Adult group by native_country order by count(age) desc \"\"\"\n",
    "print(pd.read_sql_query(query,sqladb))"
   ]
  },
  {
   "cell_type": "code",
   "execution_count": 22,
   "metadata": {},
   "outputs": [
    {
     "name": "stdout",
     "output_type": "stream",
     "text": [
      "\n",
      "7. Compute a new column as 'Net-Capital-Gain' from the two columns 'capital-gain' and 'capital-loss'\n",
      "       capital-gain  capital-loss  Net-Capital-Gain\n",
      "0                 0             0                 0\n",
      "1                 0             0                 0\n",
      "2                 0             0                 0\n",
      "3                 0             0                 0\n",
      "4                 0             0                 0\n",
      "5                 0             0                 0\n",
      "6                 0             0                 0\n",
      "7             14084             0             14084\n",
      "8              5178             0              5178\n",
      "9                 0             0                 0\n",
      "10                0             0                 0\n",
      "11                0             0                 0\n",
      "12                0             0                 0\n",
      "13                0             0                 0\n",
      "14                0             0                 0\n",
      "15                0             0                 0\n",
      "16                0             0                 0\n",
      "17                0             0                 0\n",
      "18                0             0                 0\n",
      "19                0             0                 0\n",
      "20                0             0                 0\n",
      "21                0             0                 0\n",
      "22                0          2042             -2042\n",
      "23                0             0                 0\n",
      "24                0             0                 0\n",
      "25                0             0                 0\n",
      "26                0             0                 0\n",
      "27                0             0                 0\n",
      "28                0             0                 0\n",
      "29                0             0                 0\n",
      "...             ...           ...               ...\n",
      "32530             0             0                 0\n",
      "32531             0             0                 0\n",
      "32532             0             0                 0\n",
      "32533             0             0                 0\n",
      "32534             0             0                 0\n",
      "32535             0             0                 0\n",
      "32536             0             0                 0\n",
      "32537         15020             0             15020\n",
      "32538             0             0                 0\n",
      "32539             0             0                 0\n",
      "32540             0             0                 0\n",
      "32541             0             0                 0\n",
      "32542             0             0                 0\n",
      "32543             0             0                 0\n",
      "32544             0             0                 0\n",
      "32545             0             0                 0\n",
      "32546             0             0                 0\n",
      "32547          1086             0              1086\n",
      "32548             0             0                 0\n",
      "32549             0             0                 0\n",
      "32550             0             0                 0\n",
      "32551             0             0                 0\n",
      "32552             0             0                 0\n",
      "32553             0             0                 0\n",
      "32554             0             0                 0\n",
      "32555             0             0                 0\n",
      "32556             0             0                 0\n",
      "32557             0             0                 0\n",
      "32558             0             0                 0\n",
      "32559         15024             0             15024\n",
      "\n",
      "[32560 rows x 3 columns]\n"
     ]
    }
   ],
   "source": [
    "# 7. Compute a new column as 'Net-Capital-Gain' from the two columns 'capital-gain' and 'capital-loss'\n",
    "print(\"\\n7. Compute a new column as 'Net-Capital-Gain' from the two columns 'capital-gain' and 'capital-loss'\")\n",
    "query = \"\"\"SELECT capital_gain as 'capital-gain', capital_loss as 'capital-loss', (capital_gain - capital_loss) as 'Net-Capital-Gain' FROM Adult \"\"\"\n",
    "print(pd.read_sql_query(query,sqladb))"
   ]
  },
  {
   "cell_type": "code",
   "execution_count": 23,
   "metadata": {},
   "outputs": [],
   "source": [
    "sqladb.close()"
   ]
  },
  {
   "cell_type": "code",
   "execution_count": null,
   "metadata": {},
   "outputs": [],
   "source": []
  }
 ],
 "metadata": {
  "kernelspec": {
   "display_name": "Python 3",
   "language": "python",
   "name": "python3"
  },
  "language_info": {
   "codemirror_mode": {
    "name": "ipython",
    "version": 3
   },
   "file_extension": ".py",
   "mimetype": "text/x-python",
   "name": "python",
   "nbconvert_exporter": "python",
   "pygments_lexer": "ipython3",
   "version": "3.6.5"
  }
 },
 "nbformat": 4,
 "nbformat_minor": 2
}
